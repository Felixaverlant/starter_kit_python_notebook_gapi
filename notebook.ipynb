{
 "cells": [
  {
   "cell_type": "code",
   "execution_count": null,
   "metadata": {
    "collapsed": false
   },
   "outputs": [
    {
     "name": "stdout",
     "output_type": "stream",
     "text": [
      "Your browser has been opened to visit:\n",
      "\n",
      "    https://accounts.google.com/o/oauth2/auth?scope=https%3A%2F%2Fwww.googleapis.com%2Fauth%2Fanalytics.readonly&redirect_uri=http%3A%2F%2Flocalhost%3A8080%2F&response_type=code&client_id=942172611671-n50garjclshhg1vkd1ka3m59e36nhl8p.apps.googleusercontent.com&access_type=offline\n",
      "\n",
      "If your browser is on a different machine then exit and re-run this\n",
      "application with the command-line parameter \n",
      "\n",
      "  --noauth_local_webserver\n",
      "\n"
     ]
    }
   ],
   "source": [
    "import ga_utils as g\n",
    "import auth as auth"
   ]
  },
  {
   "cell_type": "code",
   "execution_count": 2,
   "metadata": {
    "collapsed": false
   },
   "outputs": [
    {
     "ename": "NameError",
     "evalue": "name 'auth' is not defined",
     "output_type": "error",
     "traceback": [
      "\u001b[0;31m---------------------------------------------------------------------------\u001b[0m",
      "\u001b[0;31mNameError\u001b[0m                                 Traceback (most recent call last)",
      "\u001b[0;32m<ipython-input-2-0b66e067073a>\u001b[0m in \u001b[0;36m<module>\u001b[0;34m()\u001b[0m\n\u001b[0;32m----> 1\u001b[0;31m \u001b[0mauth\u001b[0m\u001b[0;34m.\u001b[0m\u001b[0mmain\u001b[0m\u001b[0;34m(\u001b[0m\u001b[0;34m)\u001b[0m\u001b[0;34m\u001b[0m\u001b[0m\n\u001b[0m",
      "\u001b[0;31mNameError\u001b[0m: name 'auth' is not defined"
     ]
    }
   ],
   "source": [
    "auth.main()"
   ]
  },
  {
   "cell_type": "code",
   "execution_count": 8,
   "metadata": {
    "collapsed": false
   },
   "outputs": [
    {
     "data": {
      "text/html": [
       "<div>\n",
       "<table border=\"1\" class=\"dataframe\">\n",
       "  <thead>\n",
       "    <tr style=\"text-align: right;\">\n",
       "      <th></th>\n",
       "      <th>id</th>\n",
       "      <th>name</th>\n",
       "    </tr>\n",
       "  </thead>\n",
       "  <tbody>\n",
       "    <tr>\n",
       "      <th>0</th>\n",
       "      <td>19574063</td>\n",
       "      <td>www.mfglabs.com</td>\n",
       "    </tr>\n",
       "    <tr>\n",
       "      <th>1</th>\n",
       "      <td>21801758</td>\n",
       "      <td>www.warnerbros.fr</td>\n",
       "    </tr>\n",
       "    <tr>\n",
       "      <th>2</th>\n",
       "      <td>27320884</td>\n",
       "      <td>WDMTG</td>\n",
       "    </tr>\n",
       "    <tr>\n",
       "      <th>3</th>\n",
       "      <td>37152108</td>\n",
       "      <td>Preprod Warnerbros</td>\n",
       "    </tr>\n",
       "    <tr>\n",
       "      <th>4</th>\n",
       "      <td>47413890</td>\n",
       "      <td>Warner Bros Digital Distribution</td>\n",
       "    </tr>\n",
       "    <tr>\n",
       "      <th>5</th>\n",
       "      <td>52302357</td>\n",
       "      <td>MFG</td>\n",
       "    </tr>\n",
       "    <tr>\n",
       "      <th>6</th>\n",
       "      <td>56306116</td>\n",
       "      <td>warnerbros</td>\n",
       "    </tr>\n",
       "  </tbody>\n",
       "</table>\n",
       "</div>"
      ],
      "text/plain": [
       "         id                              name\n",
       "0  19574063                   www.mfglabs.com\n",
       "1  21801758                 www.warnerbros.fr\n",
       "2  27320884                             WDMTG\n",
       "3  37152108                Preprod Warnerbros\n",
       "4  47413890  Warner Bros Digital Distribution\n",
       "5  52302357                               MFG\n",
       "6  56306116                        warnerbros"
      ]
     },
     "execution_count": 8,
     "metadata": {},
     "output_type": "execute_result"
    }
   ],
   "source": [
    "g.list_accounts()"
   ]
  },
  {
   "cell_type": "code",
   "execution_count": 3,
   "metadata": {
    "collapsed": false
   },
   "outputs": [
    {
     "data": {
      "text/html": [
       "<div>\n",
       "<table border=\"1\" class=\"dataframe\">\n",
       "  <thead>\n",
       "    <tr style=\"text-align: right;\">\n",
       "      <th></th>\n",
       "      <th>accountId</th>\n",
       "      <th>id</th>\n",
       "      <th>name</th>\n",
       "    </tr>\n",
       "  </thead>\n",
       "  <tbody>\n",
       "    <tr>\n",
       "      <th>0</th>\n",
       "      <td>33926345</td>\n",
       "      <td>UA-33926345-1</td>\n",
       "      <td>Testing</td>\n",
       "    </tr>\n",
       "  </tbody>\n",
       "</table>\n",
       "</div>"
      ],
      "text/plain": [
       "   accountId             id     name\n",
       "0   33926345  UA-33926345-1  Testing"
      ]
     },
     "execution_count": 3,
     "metadata": {},
     "output_type": "execute_result"
    }
   ],
   "source": [
    "g.list_properties(000000)"
   ]
  },
  {
   "cell_type": "code",
   "execution_count": 4,
   "metadata": {
    "collapsed": false
   },
   "outputs": [
    {
     "data": {
      "text/html": [
       "<div>\n",
       "<table border=\"1\" class=\"dataframe\">\n",
       "  <thead>\n",
       "    <tr style=\"text-align: right;\">\n",
       "      <th></th>\n",
       "      <th>accountId</th>\n",
       "      <th>childLink</th>\n",
       "      <th>created</th>\n",
       "      <th>currency</th>\n",
       "      <th>eCommerceTracking</th>\n",
       "      <th>id</th>\n",
       "      <th>internalWebPropertyId</th>\n",
       "      <th>kind</th>\n",
       "      <th>name</th>\n",
       "      <th>parentLink</th>\n",
       "      <th>permissions</th>\n",
       "      <th>selfLink</th>\n",
       "      <th>timezone</th>\n",
       "      <th>type</th>\n",
       "      <th>updated</th>\n",
       "      <th>webPropertyId</th>\n",
       "      <th>websiteUrl</th>\n",
       "    </tr>\n",
       "  </thead>\n",
       "  <tbody>\n",
       "    <tr>\n",
       "      <th>0</th>\n",
       "      <td>33926345</td>\n",
       "      <td>{u'href': u'https://www.googleapis.com/analyti...</td>\n",
       "      <td>2012-08-07T08:47:38.639Z</td>\n",
       "      <td>USD</td>\n",
       "      <td>False</td>\n",
       "      <td>62799374</td>\n",
       "      <td>61337637</td>\n",
       "      <td>analytics#profile</td>\n",
       "      <td>Testing</td>\n",
       "      <td>{u'href': u'https://www.googleapis.com/analyti...</td>\n",
       "      <td>{u'effective': [u'COLLABORATE', u'EDIT', u'MAN...</td>\n",
       "      <td>https://www.googleapis.com/analytics/v3/manage...</td>\n",
       "      <td>America/Los_Angeles</td>\n",
       "      <td>WEB</td>\n",
       "      <td>2012-08-07T08:47:39.116Z</td>\n",
       "      <td>UA-33926345-1</td>\n",
       "      <td>http://testing.altima.fr/Equipe/Fabien/testAna...</td>\n",
       "    </tr>\n",
       "  </tbody>\n",
       "</table>\n",
       "</div>"
      ],
      "text/plain": [
       "   accountId                                          childLink  \\\n",
       "0   33926345  {u'href': u'https://www.googleapis.com/analyti...   \n",
       "\n",
       "                    created currency eCommerceTracking        id  \\\n",
       "0  2012-08-07T08:47:38.639Z      USD             False  62799374   \n",
       "\n",
       "   internalWebPropertyId               kind     name  \\\n",
       "0               61337637  analytics#profile  Testing   \n",
       "\n",
       "                                          parentLink  \\\n",
       "0  {u'href': u'https://www.googleapis.com/analyti...   \n",
       "\n",
       "                                         permissions  \\\n",
       "0  {u'effective': [u'COLLABORATE', u'EDIT', u'MAN...   \n",
       "\n",
       "                                            selfLink             timezone  \\\n",
       "0  https://www.googleapis.com/analytics/v3/manage...  America/Los_Angeles   \n",
       "\n",
       "  type                   updated  webPropertyId  \\\n",
       "0  WEB  2012-08-07T08:47:39.116Z  UA-33926345-1   \n",
       "\n",
       "                                          websiteUrl  \n",
       "0  http://testing.altima.fr/Equipe/Fabien/testAna...  "
      ]
     },
     "execution_count": 4,
     "metadata": {},
     "output_type": "execute_result"
    }
   ],
   "source": [
    "g.list_profiles(00000000,\"UA-0000000-0\")"
   ]
  },
  {
   "cell_type": "code",
   "execution_count": 7,
   "metadata": {
    "collapsed": false
   },
   "outputs": [
    {
     "data": {
      "text/html": [
       "<div>\n",
       "<table border=\"1\" class=\"dataframe\">\n",
       "  <thead>\n",
       "    <tr style=\"text-align: right;\">\n",
       "      <th></th>\n",
       "      <th>ga:date</th>\n",
       "      <th>ga:sessions</th>\n",
       "      <th>ga:bounceRate</th>\n",
       "    </tr>\n",
       "  </thead>\n",
       "  <tbody>\n",
       "    <tr>\n",
       "      <th>0</th>\n",
       "      <td>20160506</td>\n",
       "      <td>0</td>\n",
       "      <td>0.0</td>\n",
       "    </tr>\n",
       "    <tr>\n",
       "      <th>1</th>\n",
       "      <td>20160507</td>\n",
       "      <td>0</td>\n",
       "      <td>0.0</td>\n",
       "    </tr>\n",
       "    <tr>\n",
       "      <th>2</th>\n",
       "      <td>20160508</td>\n",
       "      <td>1</td>\n",
       "      <td>100.0</td>\n",
       "    </tr>\n",
       "    <tr>\n",
       "      <th>3</th>\n",
       "      <td>20160509</td>\n",
       "      <td>0</td>\n",
       "      <td>0.0</td>\n",
       "    </tr>\n",
       "    <tr>\n",
       "      <th>4</th>\n",
       "      <td>20160510</td>\n",
       "      <td>0</td>\n",
       "      <td>0.0</td>\n",
       "    </tr>\n",
       "    <tr>\n",
       "      <th>5</th>\n",
       "      <td>20160511</td>\n",
       "      <td>0</td>\n",
       "      <td>0.0</td>\n",
       "    </tr>\n",
       "    <tr>\n",
       "      <th>6</th>\n",
       "      <td>20160512</td>\n",
       "      <td>0</td>\n",
       "      <td>0.0</td>\n",
       "    </tr>\n",
       "    <tr>\n",
       "      <th>7</th>\n",
       "      <td>20160513</td>\n",
       "      <td>0</td>\n",
       "      <td>0.0</td>\n",
       "    </tr>\n",
       "  </tbody>\n",
       "</table>\n",
       "</div>"
      ],
      "text/plain": [
       "    ga:date ga:sessions ga:bounceRate\n",
       "0  20160506           0           0.0\n",
       "1  20160507           0           0.0\n",
       "2  20160508           1         100.0\n",
       "3  20160509           0           0.0\n",
       "4  20160510           0           0.0\n",
       "5  20160511           0           0.0\n",
       "6  20160512           0           0.0\n",
       "7  20160513           0           0.0"
      ]
     },
     "execution_count": 7,
     "metadata": {},
     "output_type": "execute_result"
    }
   ],
   "source": [
    "d = g.get_example(00000000)"
   ]
  },
  {
   "cell_type": "code",
   "execution_count": 17,
   "metadata": {
    "collapsed": false
   },
   "outputs": [],
   "source": [
    "d"
   ]
  }
 ],
 "metadata": {
  "kernelspec": {
   "display_name": "Python 2",
   "language": "python",
   "name": "python2"
  },
  "language_info": {
   "codemirror_mode": {
    "name": "ipython",
    "version": 2
   },
   "file_extension": ".py",
   "mimetype": "text/x-python",
   "name": "python",
   "nbconvert_exporter": "python",
   "pygments_lexer": "ipython2",
   "version": "2.7.11"
  }
 },
 "nbformat": 4,
 "nbformat_minor": 0
}
